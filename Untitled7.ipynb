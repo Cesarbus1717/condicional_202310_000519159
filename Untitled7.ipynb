{
  "nbformat": 4,
  "nbformat_minor": 0,
  "metadata": {
    "colab": {
      "provenance": [],
      "authorship_tag": "ABX9TyMdKi8H8eGtBQwpsCZvo8S+",
      "include_colab_link": true
    },
    "kernelspec": {
      "name": "python3",
      "display_name": "Python 3"
    },
    "language_info": {
      "name": "python"
    }
  },
  "cells": [
    {
      "cell_type": "markdown",
      "metadata": {
        "id": "view-in-github",
        "colab_type": "text"
      },
      "source": [
        "<a href=\"https://colab.research.google.com/github/Cesarbus1717/condicional_202310_000519159/blob/main/Untitled7.ipynb\" target=\"_parent\"><img src=\"https://colab.research.google.com/assets/colab-badge.svg\" alt=\"Open In Colab\"/></a>"
      ]
    },
    {
      "cell_type": "markdown",
      "source": [
        "Condicionales _ 202310\n",
        "Nombre:cesar augusto bustamante \n",
        "ID: 000519159\n",
        "Email: cesar.bustamante@upb.edu.co"
      ],
      "metadata": {
        "id": "135jBWyjGGSl"
      }
    },
    {
      "cell_type": "code",
      "source": [
        "def calificacion(nota):\n",
        "    if nota >= 4.5 and nota <= 5:\n",
        "        return \"Excelente\"\n",
        "    elif nota >= 4.0 and nota < 4.5:\n",
        "        return \"Bueno\"\n",
        "    elif nota >= 3.0 and nota < 4.0:\n",
        "        return \"Regular\"\n",
        "    elif nota >= 0 and nota < 3.0:\n",
        "        return \"Malo\"\n",
        "    else:\n",
        "        return \"Nota no válida\"\n",
        "\n",
        "# Ejemplo de uso\n",
        "mi_nota = 4.2\n",
        "print(f\"Mi calificación es {calificacion(mi_nota)}\")"
      ],
      "metadata": {
        "colab": {
          "base_uri": "https://localhost:8080/"
        },
        "id": "mAzds6D4GID1",
        "outputId": "d6a40dbf-98f8-41fb-a116-e17c8468175a"
      },
      "execution_count": 2,
      "outputs": [
        {
          "output_type": "stream",
          "name": "stdout",
          "text": [
            "Mi calificación es Bueno\n"
          ]
        }
      ]
    }
  ]
}